{
 "cells": [
  {
   "cell_type": "code",
   "execution_count": null,
   "metadata": {
    "collapsed": true
   },
   "outputs": [],
   "source": [
    "import pandas as pd\n",
    "import plotly.express as px\n",
    "import json"
   ]
  },
  {
   "cell_type": "code",
   "execution_count": null,
   "outputs": [],
   "source": [
    "import plotly.io as pio\n",
    "pio.renderers.default = \"browser\" # to save space in the jupyter notebook"
   ],
   "metadata": {
    "collapsed": false
   }
  },
  {
   "cell_type": "code",
   "execution_count": null,
   "outputs": [],
   "source": [
    "london_boroughs = json.load(open(\"resources/london_boroughs.json\", \"r\"))\n",
    "population_data = pd.read_csv(\"resources/census-historic-population-borough.csv\")\n",
    "population_2011 = population_data[[\"Area Name\", \"Persons-2011\"]]\n",
    "\n",
    "population_2011 = population_2011.drop([33, 34, 35])"
   ],
   "metadata": {
    "collapsed": false
   }
  },
  {
   "cell_type": "code",
   "execution_count": null,
   "outputs": [],
   "source": [
    "borough_dict = {}\n",
    "\n",
    "for feature in london_boroughs['features']:\n",
    "    feature['id'] = feature[\"properties\"][\"id\"]\n",
    "    borough_dict[feature[\"properties\"][\"name\"]] = feature[\"id\"]"
   ],
   "metadata": {
    "collapsed": false
   }
  },
  {
   "cell_type": "code",
   "execution_count": null,
   "outputs": [],
   "source": [
    "population_2011[\"id\"] = population_2011[\"Area Name\"].apply(lambda x : borough_dict[x])"
   ],
   "metadata": {
    "collapsed": false
   }
  },
  {
   "cell_type": "markdown",
   "source": [
    "There are currently two options to show the map:\n",
    "1) Show city outline without the rest of the world (i.e. dashboard only displays London)\n",
    "2) Show city choropleth map with the rest of the world behind."
   ],
   "metadata": {
    "collapsed": false
   }
  },
  {
   "cell_type": "markdown",
   "source": [
    "Option 1"
   ],
   "metadata": {
    "collapsed": false
   }
  },
  {
   "cell_type": "code",
   "execution_count": null,
   "outputs": [],
   "source": [
    "fig = px.choropleth(population_2011,\n",
    "                    locations=\"id\",\n",
    "                    geojson=london_boroughs,\n",
    "                    color=\"Persons-2011\",\n",
    "                    hover_name=\"Area Name\",\n",
    "                   scope=\"europe\")\n",
    "fig.update_geos(fitbounds=\"locations\", visible=False)\n",
    "fig.show()"
   ],
   "metadata": {
    "collapsed": false
   }
  },
  {
   "cell_type": "markdown",
   "source": [
    "Option 2"
   ],
   "metadata": {
    "collapsed": false
   }
  },
  {
   "cell_type": "code",
   "execution_count": null,
   "outputs": [],
   "source": [
    "fig = px.choropleth_mapbox(population_2011,\n",
    "                    locations=\"id\",\n",
    "                    geojson=london_boroughs,\n",
    "                    color=\"Persons-2011\",\n",
    "                    hover_name=\"Area Name\",\n",
    "                    mapbox_style=\"carto-positron\",\n",
    "                    center={\n",
    "                          'lat': 51.5,\n",
    "                          'lon': -0.11\n",
    "                      },\n",
    "                    zoom=9,\n",
    "                    opacity = 1\n",
    "\n",
    ")\n",
    "fig.show()"
   ],
   "metadata": {
    "collapsed": false
   }
  },
  {
   "cell_type": "code",
   "execution_count": null,
   "outputs": [],
   "source": [],
   "metadata": {
    "collapsed": false
   }
  }
 ],
 "metadata": {
  "kernelspec": {
   "display_name": "Python 3",
   "language": "python",
   "name": "python3"
  },
  "language_info": {
   "codemirror_mode": {
    "name": "ipython",
    "version": 2
   },
   "file_extension": ".py",
   "mimetype": "text/x-python",
   "name": "python",
   "nbconvert_exporter": "python",
   "pygments_lexer": "ipython2",
   "version": "2.7.6"
  }
 },
 "nbformat": 4,
 "nbformat_minor": 0
}
