{
 "cells": [
  {
   "cell_type": "code",
   "execution_count": 1,
   "metadata": {
    "collapsed": true
   },
   "outputs": [],
   "source": [
    "import pandas as pd\n",
    "import plotly.express as px\n",
    "import json"
   ]
  },
  {
   "cell_type": "code",
   "execution_count": 2,
   "outputs": [],
   "source": [
    "import plotly.io as pio\n",
    "pio.renderers.default = \"browser\" # to save space in the jupyter notebook"
   ],
   "metadata": {
    "collapsed": false
   }
  },
  {
   "cell_type": "code",
   "execution_count": 3,
   "outputs": [
    {
     "data": {
      "text/plain": "                 Area Name  Persons-2011\n0           City of London          7375\n1     Barking and Dagenham        185911\n2                   Barnet        356386\n3                   Bexley        231997\n4                    Brent        311215\n5                  Bromley        309392\n6                   Camden        220338\n7                  Croydon        363378\n8                   Ealing        338449\n9                  Enfield        312466\n10               Greenwich        254557\n11                 Hackney        246270\n12  Hammersmith and Fulham        182493\n13                Haringey        254926\n14                  Harrow        239056\n15                Havering        237232\n16              Hillingdon        273936\n17                Hounslow        253957\n18               Islington        206125\n19  Kensington and Chelsea        158649\n20    Kingston upon Thames        160060\n21                 Lambeth        303086\n22                Lewisham        275885\n23                  Merton        199693\n24                  Newham        307984\n25               Redbridge        278970\n26    Richmond upon Thames        186990\n27               Southwark        288283\n28                  Sutton        190146\n29           Tower Hamlets        254096\n30          Waltham Forest        258249\n31              Wandsworth        306995\n32             Westminster        219396",
      "text/html": "<div>\n<style scoped>\n    .dataframe tbody tr th:only-of-type {\n        vertical-align: middle;\n    }\n\n    .dataframe tbody tr th {\n        vertical-align: top;\n    }\n\n    .dataframe thead th {\n        text-align: right;\n    }\n</style>\n<table border=\"1\" class=\"dataframe\">\n  <thead>\n    <tr style=\"text-align: right;\">\n      <th></th>\n      <th>Area Name</th>\n      <th>Persons-2011</th>\n    </tr>\n  </thead>\n  <tbody>\n    <tr>\n      <th>0</th>\n      <td>City of London</td>\n      <td>7375</td>\n    </tr>\n    <tr>\n      <th>1</th>\n      <td>Barking and Dagenham</td>\n      <td>185911</td>\n    </tr>\n    <tr>\n      <th>2</th>\n      <td>Barnet</td>\n      <td>356386</td>\n    </tr>\n    <tr>\n      <th>3</th>\n      <td>Bexley</td>\n      <td>231997</td>\n    </tr>\n    <tr>\n      <th>4</th>\n      <td>Brent</td>\n      <td>311215</td>\n    </tr>\n    <tr>\n      <th>5</th>\n      <td>Bromley</td>\n      <td>309392</td>\n    </tr>\n    <tr>\n      <th>6</th>\n      <td>Camden</td>\n      <td>220338</td>\n    </tr>\n    <tr>\n      <th>7</th>\n      <td>Croydon</td>\n      <td>363378</td>\n    </tr>\n    <tr>\n      <th>8</th>\n      <td>Ealing</td>\n      <td>338449</td>\n    </tr>\n    <tr>\n      <th>9</th>\n      <td>Enfield</td>\n      <td>312466</td>\n    </tr>\n    <tr>\n      <th>10</th>\n      <td>Greenwich</td>\n      <td>254557</td>\n    </tr>\n    <tr>\n      <th>11</th>\n      <td>Hackney</td>\n      <td>246270</td>\n    </tr>\n    <tr>\n      <th>12</th>\n      <td>Hammersmith and Fulham</td>\n      <td>182493</td>\n    </tr>\n    <tr>\n      <th>13</th>\n      <td>Haringey</td>\n      <td>254926</td>\n    </tr>\n    <tr>\n      <th>14</th>\n      <td>Harrow</td>\n      <td>239056</td>\n    </tr>\n    <tr>\n      <th>15</th>\n      <td>Havering</td>\n      <td>237232</td>\n    </tr>\n    <tr>\n      <th>16</th>\n      <td>Hillingdon</td>\n      <td>273936</td>\n    </tr>\n    <tr>\n      <th>17</th>\n      <td>Hounslow</td>\n      <td>253957</td>\n    </tr>\n    <tr>\n      <th>18</th>\n      <td>Islington</td>\n      <td>206125</td>\n    </tr>\n    <tr>\n      <th>19</th>\n      <td>Kensington and Chelsea</td>\n      <td>158649</td>\n    </tr>\n    <tr>\n      <th>20</th>\n      <td>Kingston upon Thames</td>\n      <td>160060</td>\n    </tr>\n    <tr>\n      <th>21</th>\n      <td>Lambeth</td>\n      <td>303086</td>\n    </tr>\n    <tr>\n      <th>22</th>\n      <td>Lewisham</td>\n      <td>275885</td>\n    </tr>\n    <tr>\n      <th>23</th>\n      <td>Merton</td>\n      <td>199693</td>\n    </tr>\n    <tr>\n      <th>24</th>\n      <td>Newham</td>\n      <td>307984</td>\n    </tr>\n    <tr>\n      <th>25</th>\n      <td>Redbridge</td>\n      <td>278970</td>\n    </tr>\n    <tr>\n      <th>26</th>\n      <td>Richmond upon Thames</td>\n      <td>186990</td>\n    </tr>\n    <tr>\n      <th>27</th>\n      <td>Southwark</td>\n      <td>288283</td>\n    </tr>\n    <tr>\n      <th>28</th>\n      <td>Sutton</td>\n      <td>190146</td>\n    </tr>\n    <tr>\n      <th>29</th>\n      <td>Tower Hamlets</td>\n      <td>254096</td>\n    </tr>\n    <tr>\n      <th>30</th>\n      <td>Waltham Forest</td>\n      <td>258249</td>\n    </tr>\n    <tr>\n      <th>31</th>\n      <td>Wandsworth</td>\n      <td>306995</td>\n    </tr>\n    <tr>\n      <th>32</th>\n      <td>Westminster</td>\n      <td>219396</td>\n    </tr>\n  </tbody>\n</table>\n</div>"
     },
     "execution_count": 3,
     "metadata": {},
     "output_type": "execute_result"
    }
   ],
   "source": [
    "london_boroughs = json.load(open(\"resources/london_boroughs.json\", \"r\"))\n",
    "population_data = pd.read_csv(\"resources/census-historic-population-borough.csv\")\n",
    "population_2011 = population_data[[\"Area Name\", \"Persons-2011\"]]\n",
    "\n",
    "population_2011 = population_2011.drop([33, 34, 35])\n",
    "features = london_boroughs[\"features\"]\n",
    "population_2011"
   ],
   "metadata": {
    "collapsed": false
   }
  },
  {
   "cell_type": "code",
   "execution_count": 8,
   "outputs": [
    {
     "data": {
      "text/plain": "{'Kingston upon Thames': 1,\n 'Croydon': 2,\n 'Bromley': 3,\n 'Hounslow': 4,\n 'Ealing': 5,\n 'Havering': 6,\n 'Hillingdon': 7,\n 'Harrow': 8,\n 'Brent': 9,\n 'Barnet': 10,\n 'Lambeth': 11,\n 'Southwark': 12,\n 'Lewisham': 13,\n 'Greenwich': 14,\n 'Bexley': 15,\n 'Enfield': 16,\n 'Waltham Forest': 17,\n 'Redbridge': 18,\n 'Sutton': 19,\n 'Richmond upon Thames': 20,\n 'Merton': 21,\n 'Wandsworth': 22,\n 'Hammersmith and Fulham': 23,\n 'Kensington and Chelsea': 24,\n 'Westminster': 25,\n 'Camden': 26,\n 'Tower Hamlets': 27,\n 'Islington': 28,\n 'Hackney': 29,\n 'Haringey': 30,\n 'Newham': 31,\n 'Barking and Dagenham': 32,\n 'City of London': 33}"
     },
     "execution_count": 8,
     "metadata": {},
     "output_type": "execute_result"
    }
   ],
   "source": [
    "borough_dict = {}\n",
    "\n",
    "for feature in london_boroughs['features']:\n",
    "    feature['id'] = feature[\"properties\"][\"id\"]\n",
    "    borough_dict[feature[\"properties\"][\"name\"]] = feature[\"id\"]\n",
    "\n",
    "borough_dict"
   ],
   "metadata": {
    "collapsed": false
   }
  },
  {
   "cell_type": "code",
   "execution_count": 5,
   "outputs": [
    {
     "data": {
      "text/plain": "                 Area Name  Persons-2011  id\n0           City of London          7375  33\n1     Barking and Dagenham        185911  32\n2                   Barnet        356386  10\n3                   Bexley        231997  15\n4                    Brent        311215   9\n5                  Bromley        309392   3\n6                   Camden        220338  26\n7                  Croydon        363378   2\n8                   Ealing        338449   5\n9                  Enfield        312466  16\n10               Greenwich        254557  14\n11                 Hackney        246270  29\n12  Hammersmith and Fulham        182493  23\n13                Haringey        254926  30\n14                  Harrow        239056   8\n15                Havering        237232   6\n16              Hillingdon        273936   7\n17                Hounslow        253957   4\n18               Islington        206125  28\n19  Kensington and Chelsea        158649  24\n20    Kingston upon Thames        160060   1\n21                 Lambeth        303086  11\n22                Lewisham        275885  13\n23                  Merton        199693  21\n24                  Newham        307984  31\n25               Redbridge        278970  18\n26    Richmond upon Thames        186990  20\n27               Southwark        288283  12\n28                  Sutton        190146  19\n29           Tower Hamlets        254096  27\n30          Waltham Forest        258249  17\n31              Wandsworth        306995  22\n32             Westminster        219396  25",
      "text/html": "<div>\n<style scoped>\n    .dataframe tbody tr th:only-of-type {\n        vertical-align: middle;\n    }\n\n    .dataframe tbody tr th {\n        vertical-align: top;\n    }\n\n    .dataframe thead th {\n        text-align: right;\n    }\n</style>\n<table border=\"1\" class=\"dataframe\">\n  <thead>\n    <tr style=\"text-align: right;\">\n      <th></th>\n      <th>Area Name</th>\n      <th>Persons-2011</th>\n      <th>id</th>\n    </tr>\n  </thead>\n  <tbody>\n    <tr>\n      <th>0</th>\n      <td>City of London</td>\n      <td>7375</td>\n      <td>33</td>\n    </tr>\n    <tr>\n      <th>1</th>\n      <td>Barking and Dagenham</td>\n      <td>185911</td>\n      <td>32</td>\n    </tr>\n    <tr>\n      <th>2</th>\n      <td>Barnet</td>\n      <td>356386</td>\n      <td>10</td>\n    </tr>\n    <tr>\n      <th>3</th>\n      <td>Bexley</td>\n      <td>231997</td>\n      <td>15</td>\n    </tr>\n    <tr>\n      <th>4</th>\n      <td>Brent</td>\n      <td>311215</td>\n      <td>9</td>\n    </tr>\n    <tr>\n      <th>5</th>\n      <td>Bromley</td>\n      <td>309392</td>\n      <td>3</td>\n    </tr>\n    <tr>\n      <th>6</th>\n      <td>Camden</td>\n      <td>220338</td>\n      <td>26</td>\n    </tr>\n    <tr>\n      <th>7</th>\n      <td>Croydon</td>\n      <td>363378</td>\n      <td>2</td>\n    </tr>\n    <tr>\n      <th>8</th>\n      <td>Ealing</td>\n      <td>338449</td>\n      <td>5</td>\n    </tr>\n    <tr>\n      <th>9</th>\n      <td>Enfield</td>\n      <td>312466</td>\n      <td>16</td>\n    </tr>\n    <tr>\n      <th>10</th>\n      <td>Greenwich</td>\n      <td>254557</td>\n      <td>14</td>\n    </tr>\n    <tr>\n      <th>11</th>\n      <td>Hackney</td>\n      <td>246270</td>\n      <td>29</td>\n    </tr>\n    <tr>\n      <th>12</th>\n      <td>Hammersmith and Fulham</td>\n      <td>182493</td>\n      <td>23</td>\n    </tr>\n    <tr>\n      <th>13</th>\n      <td>Haringey</td>\n      <td>254926</td>\n      <td>30</td>\n    </tr>\n    <tr>\n      <th>14</th>\n      <td>Harrow</td>\n      <td>239056</td>\n      <td>8</td>\n    </tr>\n    <tr>\n      <th>15</th>\n      <td>Havering</td>\n      <td>237232</td>\n      <td>6</td>\n    </tr>\n    <tr>\n      <th>16</th>\n      <td>Hillingdon</td>\n      <td>273936</td>\n      <td>7</td>\n    </tr>\n    <tr>\n      <th>17</th>\n      <td>Hounslow</td>\n      <td>253957</td>\n      <td>4</td>\n    </tr>\n    <tr>\n      <th>18</th>\n      <td>Islington</td>\n      <td>206125</td>\n      <td>28</td>\n    </tr>\n    <tr>\n      <th>19</th>\n      <td>Kensington and Chelsea</td>\n      <td>158649</td>\n      <td>24</td>\n    </tr>\n    <tr>\n      <th>20</th>\n      <td>Kingston upon Thames</td>\n      <td>160060</td>\n      <td>1</td>\n    </tr>\n    <tr>\n      <th>21</th>\n      <td>Lambeth</td>\n      <td>303086</td>\n      <td>11</td>\n    </tr>\n    <tr>\n      <th>22</th>\n      <td>Lewisham</td>\n      <td>275885</td>\n      <td>13</td>\n    </tr>\n    <tr>\n      <th>23</th>\n      <td>Merton</td>\n      <td>199693</td>\n      <td>21</td>\n    </tr>\n    <tr>\n      <th>24</th>\n      <td>Newham</td>\n      <td>307984</td>\n      <td>31</td>\n    </tr>\n    <tr>\n      <th>25</th>\n      <td>Redbridge</td>\n      <td>278970</td>\n      <td>18</td>\n    </tr>\n    <tr>\n      <th>26</th>\n      <td>Richmond upon Thames</td>\n      <td>186990</td>\n      <td>20</td>\n    </tr>\n    <tr>\n      <th>27</th>\n      <td>Southwark</td>\n      <td>288283</td>\n      <td>12</td>\n    </tr>\n    <tr>\n      <th>28</th>\n      <td>Sutton</td>\n      <td>190146</td>\n      <td>19</td>\n    </tr>\n    <tr>\n      <th>29</th>\n      <td>Tower Hamlets</td>\n      <td>254096</td>\n      <td>27</td>\n    </tr>\n    <tr>\n      <th>30</th>\n      <td>Waltham Forest</td>\n      <td>258249</td>\n      <td>17</td>\n    </tr>\n    <tr>\n      <th>31</th>\n      <td>Wandsworth</td>\n      <td>306995</td>\n      <td>22</td>\n    </tr>\n    <tr>\n      <th>32</th>\n      <td>Westminster</td>\n      <td>219396</td>\n      <td>25</td>\n    </tr>\n  </tbody>\n</table>\n</div>"
     },
     "execution_count": 5,
     "metadata": {},
     "output_type": "execute_result"
    }
   ],
   "source": [
    "population_2011[\"id\"] = population_2011[\"Area Name\"].apply(lambda x : borough_dict[x])\n",
    "population_2011"
   ],
   "metadata": {
    "collapsed": false
   }
  },
  {
   "cell_type": "markdown",
   "source": [
    "There are currently two options to show the map:\n",
    "1) Show city outline without the rest of the world (i.e. dashboard only displays London)\n",
    "2) Show city choropleth map with the rest of the world behind."
   ],
   "metadata": {
    "collapsed": false
   }
  },
  {
   "cell_type": "markdown",
   "source": [
    "Option 1"
   ],
   "metadata": {
    "collapsed": false
   }
  },
  {
   "cell_type": "code",
   "execution_count": 6,
   "outputs": [],
   "source": [
    "fig = px.choropleth(population_2011,\n",
    "                    locations=\"id\",\n",
    "                    geojson=london_boroughs,\n",
    "                    color=\"Persons-2011\",\n",
    "                    hover_name=\"Area Name\",\n",
    "                   scope=\"europe\")\n",
    "fig.update_geos(fitbounds=\"locations\", visible=False)\n",
    "fig.show()"
   ],
   "metadata": {
    "collapsed": false
   }
  },
  {
   "cell_type": "markdown",
   "source": [
    "Option 2"
   ],
   "metadata": {
    "collapsed": false
   }
  },
  {
   "cell_type": "code",
   "execution_count": 7,
   "outputs": [
    {
     "data": {
      "text/plain": "                 Area Name  Persons-2011  id\n0           City of London          7375  33\n1     Barking and Dagenham        185911  32\n2                   Barnet        356386  10\n3                   Bexley        231997  15\n4                    Brent        311215   9\n5                  Bromley        309392   3\n6                   Camden        220338  26\n7                  Croydon        363378   2\n8                   Ealing        338449   5\n9                  Enfield        312466  16\n10               Greenwich        254557  14\n11                 Hackney        246270  29\n12  Hammersmith and Fulham        182493  23\n13                Haringey        254926  30\n14                  Harrow        239056   8\n15                Havering        237232   6\n16              Hillingdon        273936   7\n17                Hounslow        253957   4\n18               Islington        206125  28\n19  Kensington and Chelsea        158649  24\n20    Kingston upon Thames        160060   1\n21                 Lambeth        303086  11\n22                Lewisham        275885  13\n23                  Merton        199693  21\n24                  Newham        307984  31\n25               Redbridge        278970  18\n26    Richmond upon Thames        186990  20\n27               Southwark        288283  12\n28                  Sutton        190146  19\n29           Tower Hamlets        254096  27\n30          Waltham Forest        258249  17\n31              Wandsworth        306995  22\n32             Westminster        219396  25",
      "text/html": "<div>\n<style scoped>\n    .dataframe tbody tr th:only-of-type {\n        vertical-align: middle;\n    }\n\n    .dataframe tbody tr th {\n        vertical-align: top;\n    }\n\n    .dataframe thead th {\n        text-align: right;\n    }\n</style>\n<table border=\"1\" class=\"dataframe\">\n  <thead>\n    <tr style=\"text-align: right;\">\n      <th></th>\n      <th>Area Name</th>\n      <th>Persons-2011</th>\n      <th>id</th>\n    </tr>\n  </thead>\n  <tbody>\n    <tr>\n      <th>0</th>\n      <td>City of London</td>\n      <td>7375</td>\n      <td>33</td>\n    </tr>\n    <tr>\n      <th>1</th>\n      <td>Barking and Dagenham</td>\n      <td>185911</td>\n      <td>32</td>\n    </tr>\n    <tr>\n      <th>2</th>\n      <td>Barnet</td>\n      <td>356386</td>\n      <td>10</td>\n    </tr>\n    <tr>\n      <th>3</th>\n      <td>Bexley</td>\n      <td>231997</td>\n      <td>15</td>\n    </tr>\n    <tr>\n      <th>4</th>\n      <td>Brent</td>\n      <td>311215</td>\n      <td>9</td>\n    </tr>\n    <tr>\n      <th>5</th>\n      <td>Bromley</td>\n      <td>309392</td>\n      <td>3</td>\n    </tr>\n    <tr>\n      <th>6</th>\n      <td>Camden</td>\n      <td>220338</td>\n      <td>26</td>\n    </tr>\n    <tr>\n      <th>7</th>\n      <td>Croydon</td>\n      <td>363378</td>\n      <td>2</td>\n    </tr>\n    <tr>\n      <th>8</th>\n      <td>Ealing</td>\n      <td>338449</td>\n      <td>5</td>\n    </tr>\n    <tr>\n      <th>9</th>\n      <td>Enfield</td>\n      <td>312466</td>\n      <td>16</td>\n    </tr>\n    <tr>\n      <th>10</th>\n      <td>Greenwich</td>\n      <td>254557</td>\n      <td>14</td>\n    </tr>\n    <tr>\n      <th>11</th>\n      <td>Hackney</td>\n      <td>246270</td>\n      <td>29</td>\n    </tr>\n    <tr>\n      <th>12</th>\n      <td>Hammersmith and Fulham</td>\n      <td>182493</td>\n      <td>23</td>\n    </tr>\n    <tr>\n      <th>13</th>\n      <td>Haringey</td>\n      <td>254926</td>\n      <td>30</td>\n    </tr>\n    <tr>\n      <th>14</th>\n      <td>Harrow</td>\n      <td>239056</td>\n      <td>8</td>\n    </tr>\n    <tr>\n      <th>15</th>\n      <td>Havering</td>\n      <td>237232</td>\n      <td>6</td>\n    </tr>\n    <tr>\n      <th>16</th>\n      <td>Hillingdon</td>\n      <td>273936</td>\n      <td>7</td>\n    </tr>\n    <tr>\n      <th>17</th>\n      <td>Hounslow</td>\n      <td>253957</td>\n      <td>4</td>\n    </tr>\n    <tr>\n      <th>18</th>\n      <td>Islington</td>\n      <td>206125</td>\n      <td>28</td>\n    </tr>\n    <tr>\n      <th>19</th>\n      <td>Kensington and Chelsea</td>\n      <td>158649</td>\n      <td>24</td>\n    </tr>\n    <tr>\n      <th>20</th>\n      <td>Kingston upon Thames</td>\n      <td>160060</td>\n      <td>1</td>\n    </tr>\n    <tr>\n      <th>21</th>\n      <td>Lambeth</td>\n      <td>303086</td>\n      <td>11</td>\n    </tr>\n    <tr>\n      <th>22</th>\n      <td>Lewisham</td>\n      <td>275885</td>\n      <td>13</td>\n    </tr>\n    <tr>\n      <th>23</th>\n      <td>Merton</td>\n      <td>199693</td>\n      <td>21</td>\n    </tr>\n    <tr>\n      <th>24</th>\n      <td>Newham</td>\n      <td>307984</td>\n      <td>31</td>\n    </tr>\n    <tr>\n      <th>25</th>\n      <td>Redbridge</td>\n      <td>278970</td>\n      <td>18</td>\n    </tr>\n    <tr>\n      <th>26</th>\n      <td>Richmond upon Thames</td>\n      <td>186990</td>\n      <td>20</td>\n    </tr>\n    <tr>\n      <th>27</th>\n      <td>Southwark</td>\n      <td>288283</td>\n      <td>12</td>\n    </tr>\n    <tr>\n      <th>28</th>\n      <td>Sutton</td>\n      <td>190146</td>\n      <td>19</td>\n    </tr>\n    <tr>\n      <th>29</th>\n      <td>Tower Hamlets</td>\n      <td>254096</td>\n      <td>27</td>\n    </tr>\n    <tr>\n      <th>30</th>\n      <td>Waltham Forest</td>\n      <td>258249</td>\n      <td>17</td>\n    </tr>\n    <tr>\n      <th>31</th>\n      <td>Wandsworth</td>\n      <td>306995</td>\n      <td>22</td>\n    </tr>\n    <tr>\n      <th>32</th>\n      <td>Westminster</td>\n      <td>219396</td>\n      <td>25</td>\n    </tr>\n  </tbody>\n</table>\n</div>"
     },
     "metadata": {},
     "output_type": "display_data"
    }
   ],
   "source": [
    "display(population_2011)\n",
    "fig = px.choropleth_mapbox(population_2011,\n",
    "                    locations=\"id\",\n",
    "                    geojson=london_boroughs,\n",
    "                    color=\"Persons-2011\",\n",
    "                    hover_name=\"Area Name\",\n",
    "                    mapbox_style=\"carto-positron\",\n",
    "                    center={\n",
    "                          'lat': 51.5,\n",
    "                          'lon': -0.11\n",
    "                      },\n",
    "                    zoom=9,\n",
    "                    opacity = 1\n",
    "\n",
    ")\n",
    "fig.show()"
   ],
   "metadata": {
    "collapsed": false
   }
  },
  {
   "cell_type": "code",
   "execution_count": null,
   "outputs": [],
   "source": [
    "london_boroughs['features']"
   ],
   "metadata": {
    "collapsed": false
   }
  },
  {
   "cell_type": "code",
   "execution_count": null,
   "outputs": [],
   "source": [],
   "metadata": {
    "collapsed": false
   }
  }
 ],
 "metadata": {
  "kernelspec": {
   "display_name": "Python 3",
   "language": "python",
   "name": "python3"
  },
  "language_info": {
   "codemirror_mode": {
    "name": "ipython",
    "version": 2
   },
   "file_extension": ".py",
   "mimetype": "text/x-python",
   "name": "python",
   "nbconvert_exporter": "python",
   "pygments_lexer": "ipython2",
   "version": "2.7.6"
  }
 },
 "nbformat": 4,
 "nbformat_minor": 0
}
